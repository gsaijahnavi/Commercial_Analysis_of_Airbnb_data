{
  "cells": [
    {
      "cell_type": "code",
      "execution_count": 1,
      "metadata": {
        "colab": {
          "base_uri": "https://localhost:8080/"
        },
        "id": "6ry5eRsVxCZG",
        "outputId": "fee9a93d-7555-4c6c-995b-9e62476fa3e4"
      },
      "outputs": [
        {
          "output_type": "stream",
          "name": "stdout",
          "text": [
            "Drive already mounted at /content/drive; to attempt to forcibly remount, call drive.mount(\"/content/drive\", force_remount=True).\n"
          ]
        }
      ],
      "source": [
        "from google.colab import drive\n",
        "drive.mount('/content/drive')\n"
      ]
    },
    {
      "cell_type": "code",
      "execution_count": 2,
      "metadata": {
        "id": "2kumiNYCxTFg"
      },
      "outputs": [],
      "source": [
        "# Packages\n",
        "import pandas as pd\n",
        "import matplotlib.pyplot as plt\n",
        "import seaborn as sns\n",
        "import numpy as np\n",
        "import plotly.express as px\n"
      ]
    },
    {
      "cell_type": "markdown",
      "source": [
        "**README:**\n",
        "\n",
        "This script is intended to clean the data for Commercial Analysis project. \n",
        "\n",
        "Input: Raw country data excel/csv\n",
        "Output: Cleaned excel to be used in tableau\n",
        " \n",
        "\n",
        "How to use this file? Follow below steps\n",
        "\n",
        "* In **line 3** input country you are interested to do analysis\n",
        "* In **line 4** change target path to the folder where you want to dump excel\n",
        "* In **line 5** change path to excel file of country that you want to clean\n",
        "* You are set! Run the script\n",
        "\n",
        "\n",
        "\n",
        "\n",
        "\n",
        "\n",
        "\n",
        "\n"
      ],
      "metadata": {
        "id": "JNYjJ4PPryb8"
      }
    },
    {
      "cell_type": "markdown",
      "source": [
        "## **READING DATASET**"
      ],
      "metadata": {
        "id": "bIhFvWUSse2C"
      }
    },
    {
      "cell_type": "code",
      "source": [
        "country = input(\"Input the country to dump excel \") # Input the country"
      ],
      "metadata": {
        "colab": {
          "base_uri": "https://localhost:8080/"
        },
        "id": "UfspKm05bzll",
        "outputId": "7feebda3-a4d5-4bde-bfe1-90b0d655ca4b"
      },
      "execution_count": 3,
      "outputs": [
        {
          "name": "stdout",
          "output_type": "stream",
          "text": [
            "Input the country to dump excel USA\n"
          ]
        }
      ]
    },
    {
      "cell_type": "code",
      "source": [
        "target_path = '/content/drive/MyDrive/Capstone_TEAM7_Fall_2022/Project_Files/' # target path where you want to dump the clean excel"
      ],
      "metadata": {
        "id": "w3WoMVgos8ux"
      },
      "execution_count": 4,
      "outputs": []
    },
    {
      "cell_type": "code",
      "execution_count": 5,
      "metadata": {
        "id": "6tKrg4IxxeNI"
      },
      "outputs": [],
      "source": [
        "\n",
        "# Input the data file\n",
        "df = pd.read_csv('/content/drive/MyDrive/Capstone_TEAM7_Fall_2022/listings_US.csv')"
      ]
    },
    {
      "cell_type": "code",
      "execution_count": 6,
      "metadata": {
        "colab": {
          "base_uri": "https://localhost:8080/",
          "height": 379
        },
        "id": "FW5Ng6QpHvZb",
        "outputId": "876850e5-7fc5-4122-9ea5-d46e9ebe7450"
      },
      "outputs": [
        {
          "output_type": "execute_result",
          "data": {
            "text/plain": [
              "                   id                                      listing_url  \\\n",
              "0            35575312            https://www.airbnb.com/rooms/35575312   \n",
              "1  635519741001985764  https://www.airbnb.com/rooms/635519741001985764   \n",
              "\n",
              "        scrape_id last_searched last_scraped  \\\n",
              "0  20220717002814    2022-07-17   2022-07-22   \n",
              "1  20220717002814    2022-07-17   2022-07-20   \n",
              "\n",
              "                                               name  \\\n",
              "0  WV Mountain cottage minutes from New River Gorge   \n",
              "1                 Ptarmigan Ranch North Fork Views!   \n",
              "\n",
              "                                         description  \\\n",
              "0  Located on Green Acres campground, just .2 mil...   \n",
              "1  Welcome to Ptarmigan Ranch! This beautiful thr...   \n",
              "\n",
              "                               neighborhood_overview  \\\n",
              "0  Rural community. Quaint nearby towns and growi...   \n",
              "1                                                NaN   \n",
              "\n",
              "                                         picture_url   host_id  ...  \\\n",
              "0  https://a0.muscache.com/pictures/f0ee66c4-9091...  60091041  ...   \n",
              "1  https://a0.muscache.com/pictures/prohost-api/H...  80717299  ...   \n",
              "\n",
              "  calculated_host_listings_count_entire_homes  \\\n",
              "0                                           7   \n",
              "1                                          78   \n",
              "\n",
              "  calculated_host_listings_count_private_rooms  \\\n",
              "0                                            0   \n",
              "1                                            1   \n",
              "\n",
              "  calculated_host_listings_count_shared_rooms region_id region_name  \\\n",
              "0                                           0        19     Fayette   \n",
              "1                                           0        29        Park   \n",
              "\n",
              "  region_parent_id region_parent_name region_parent_parent_id  \\\n",
              "0               54      West Virginia                     NaN   \n",
              "1               56            Wyoming                     NaN   \n",
              "\n",
              "  region_parent_parent_name reviews_per_month  \n",
              "0                       NaN              1.33  \n",
              "1                       NaN               NaN  \n",
              "\n",
              "[2 rows x 80 columns]"
            ],
            "text/html": [
              "\n",
              "  <div id=\"df-dde1eaed-c581-46b6-948e-fe77c988ea59\">\n",
              "    <div class=\"colab-df-container\">\n",
              "      <div>\n",
              "<style scoped>\n",
              "    .dataframe tbody tr th:only-of-type {\n",
              "        vertical-align: middle;\n",
              "    }\n",
              "\n",
              "    .dataframe tbody tr th {\n",
              "        vertical-align: top;\n",
              "    }\n",
              "\n",
              "    .dataframe thead th {\n",
              "        text-align: right;\n",
              "    }\n",
              "</style>\n",
              "<table border=\"1\" class=\"dataframe\">\n",
              "  <thead>\n",
              "    <tr style=\"text-align: right;\">\n",
              "      <th></th>\n",
              "      <th>id</th>\n",
              "      <th>listing_url</th>\n",
              "      <th>scrape_id</th>\n",
              "      <th>last_searched</th>\n",
              "      <th>last_scraped</th>\n",
              "      <th>name</th>\n",
              "      <th>description</th>\n",
              "      <th>neighborhood_overview</th>\n",
              "      <th>picture_url</th>\n",
              "      <th>host_id</th>\n",
              "      <th>...</th>\n",
              "      <th>calculated_host_listings_count_entire_homes</th>\n",
              "      <th>calculated_host_listings_count_private_rooms</th>\n",
              "      <th>calculated_host_listings_count_shared_rooms</th>\n",
              "      <th>region_id</th>\n",
              "      <th>region_name</th>\n",
              "      <th>region_parent_id</th>\n",
              "      <th>region_parent_name</th>\n",
              "      <th>region_parent_parent_id</th>\n",
              "      <th>region_parent_parent_name</th>\n",
              "      <th>reviews_per_month</th>\n",
              "    </tr>\n",
              "  </thead>\n",
              "  <tbody>\n",
              "    <tr>\n",
              "      <th>0</th>\n",
              "      <td>35575312</td>\n",
              "      <td>https://www.airbnb.com/rooms/35575312</td>\n",
              "      <td>20220717002814</td>\n",
              "      <td>2022-07-17</td>\n",
              "      <td>2022-07-22</td>\n",
              "      <td>WV Mountain cottage minutes from New River Gorge</td>\n",
              "      <td>Located on Green Acres campground, just .2 mil...</td>\n",
              "      <td>Rural community. Quaint nearby towns and growi...</td>\n",
              "      <td>https://a0.muscache.com/pictures/f0ee66c4-9091...</td>\n",
              "      <td>60091041</td>\n",
              "      <td>...</td>\n",
              "      <td>7</td>\n",
              "      <td>0</td>\n",
              "      <td>0</td>\n",
              "      <td>19</td>\n",
              "      <td>Fayette</td>\n",
              "      <td>54</td>\n",
              "      <td>West Virginia</td>\n",
              "      <td>NaN</td>\n",
              "      <td>NaN</td>\n",
              "      <td>1.33</td>\n",
              "    </tr>\n",
              "    <tr>\n",
              "      <th>1</th>\n",
              "      <td>635519741001985764</td>\n",
              "      <td>https://www.airbnb.com/rooms/635519741001985764</td>\n",
              "      <td>20220717002814</td>\n",
              "      <td>2022-07-17</td>\n",
              "      <td>2022-07-20</td>\n",
              "      <td>Ptarmigan Ranch North Fork Views!</td>\n",
              "      <td>Welcome to Ptarmigan Ranch! This beautiful thr...</td>\n",
              "      <td>NaN</td>\n",
              "      <td>https://a0.muscache.com/pictures/prohost-api/H...</td>\n",
              "      <td>80717299</td>\n",
              "      <td>...</td>\n",
              "      <td>78</td>\n",
              "      <td>1</td>\n",
              "      <td>0</td>\n",
              "      <td>29</td>\n",
              "      <td>Park</td>\n",
              "      <td>56</td>\n",
              "      <td>Wyoming</td>\n",
              "      <td>NaN</td>\n",
              "      <td>NaN</td>\n",
              "      <td>NaN</td>\n",
              "    </tr>\n",
              "  </tbody>\n",
              "</table>\n",
              "<p>2 rows × 80 columns</p>\n",
              "</div>\n",
              "      <button class=\"colab-df-convert\" onclick=\"convertToInteractive('df-dde1eaed-c581-46b6-948e-fe77c988ea59')\"\n",
              "              title=\"Convert this dataframe to an interactive table.\"\n",
              "              style=\"display:none;\">\n",
              "        \n",
              "  <svg xmlns=\"http://www.w3.org/2000/svg\" height=\"24px\"viewBox=\"0 0 24 24\"\n",
              "       width=\"24px\">\n",
              "    <path d=\"M0 0h24v24H0V0z\" fill=\"none\"/>\n",
              "    <path d=\"M18.56 5.44l.94 2.06.94-2.06 2.06-.94-2.06-.94-.94-2.06-.94 2.06-2.06.94zm-11 1L8.5 8.5l.94-2.06 2.06-.94-2.06-.94L8.5 2.5l-.94 2.06-2.06.94zm10 10l.94 2.06.94-2.06 2.06-.94-2.06-.94-.94-2.06-.94 2.06-2.06.94z\"/><path d=\"M17.41 7.96l-1.37-1.37c-.4-.4-.92-.59-1.43-.59-.52 0-1.04.2-1.43.59L10.3 9.45l-7.72 7.72c-.78.78-.78 2.05 0 2.83L4 21.41c.39.39.9.59 1.41.59.51 0 1.02-.2 1.41-.59l7.78-7.78 2.81-2.81c.8-.78.8-2.07 0-2.86zM5.41 20L4 18.59l7.72-7.72 1.47 1.35L5.41 20z\"/>\n",
              "  </svg>\n",
              "      </button>\n",
              "      \n",
              "  <style>\n",
              "    .colab-df-container {\n",
              "      display:flex;\n",
              "      flex-wrap:wrap;\n",
              "      gap: 12px;\n",
              "    }\n",
              "\n",
              "    .colab-df-convert {\n",
              "      background-color: #E8F0FE;\n",
              "      border: none;\n",
              "      border-radius: 50%;\n",
              "      cursor: pointer;\n",
              "      display: none;\n",
              "      fill: #1967D2;\n",
              "      height: 32px;\n",
              "      padding: 0 0 0 0;\n",
              "      width: 32px;\n",
              "    }\n",
              "\n",
              "    .colab-df-convert:hover {\n",
              "      background-color: #E2EBFA;\n",
              "      box-shadow: 0px 1px 2px rgba(60, 64, 67, 0.3), 0px 1px 3px 1px rgba(60, 64, 67, 0.15);\n",
              "      fill: #174EA6;\n",
              "    }\n",
              "\n",
              "    [theme=dark] .colab-df-convert {\n",
              "      background-color: #3B4455;\n",
              "      fill: #D2E3FC;\n",
              "    }\n",
              "\n",
              "    [theme=dark] .colab-df-convert:hover {\n",
              "      background-color: #434B5C;\n",
              "      box-shadow: 0px 1px 3px 1px rgba(0, 0, 0, 0.15);\n",
              "      filter: drop-shadow(0px 1px 2px rgba(0, 0, 0, 0.3));\n",
              "      fill: #FFFFFF;\n",
              "    }\n",
              "  </style>\n",
              "\n",
              "      <script>\n",
              "        const buttonEl =\n",
              "          document.querySelector('#df-dde1eaed-c581-46b6-948e-fe77c988ea59 button.colab-df-convert');\n",
              "        buttonEl.style.display =\n",
              "          google.colab.kernel.accessAllowed ? 'block' : 'none';\n",
              "\n",
              "        async function convertToInteractive(key) {\n",
              "          const element = document.querySelector('#df-dde1eaed-c581-46b6-948e-fe77c988ea59');\n",
              "          const dataTable =\n",
              "            await google.colab.kernel.invokeFunction('convertToInteractive',\n",
              "                                                     [key], {});\n",
              "          if (!dataTable) return;\n",
              "\n",
              "          const docLinkHtml = 'Like what you see? Visit the ' +\n",
              "            '<a target=\"_blank\" href=https://colab.research.google.com/notebooks/data_table.ipynb>data table notebook</a>'\n",
              "            + ' to learn more about interactive tables.';\n",
              "          element.innerHTML = '';\n",
              "          dataTable['output_type'] = 'display_data';\n",
              "          await google.colab.output.renderOutput(dataTable, element);\n",
              "          const docLink = document.createElement('div');\n",
              "          docLink.innerHTML = docLinkHtml;\n",
              "          element.appendChild(docLink);\n",
              "        }\n",
              "      </script>\n",
              "    </div>\n",
              "  </div>\n",
              "  "
            ]
          },
          "metadata": {},
          "execution_count": 6
        }
      ],
      "source": [
        "df.head(2)"
      ]
    },
    {
      "cell_type": "markdown",
      "source": [
        "## **NULL VALUE EXPLORATION**"
      ],
      "metadata": {
        "id": "WjjikbBEsmGt"
      }
    },
    {
      "cell_type": "code",
      "execution_count": 7,
      "metadata": {
        "colab": {
          "base_uri": "https://localhost:8080/",
          "height": 664
        },
        "id": "B11y3Py42ojW",
        "outputId": "fb75d409-c3a2-4b80-fac8-2a16c3c80e8e"
      },
      "outputs": [
        {
          "output_type": "execute_result",
          "data": {
            "text/plain": [
              "<matplotlib.axes._subplots.AxesSubplot at 0x7f993132bb10>"
            ]
          },
          "metadata": {},
          "execution_count": 7
        },
        {
          "output_type": "display_data",
          "data": {
            "text/plain": [
              "<Figure size 1440x504 with 1 Axes>"
            ],
            "image/png": "[encoded data removed]"
          },
          "metadata": {
            "needs_background": "light"
          }
        }
      ],
      "source": [
        "# Explore the missing values\n",
        "plt.figure(figsize=(20,7))\n",
        "null = df.isnull().sum()*100/df.shape[0]\n",
        "null.plot(kind='bar',color='r')"
      ]
    },
    {
      "cell_type": "markdown",
      "source": [
        "## **IRRELEVANT COLUMNS FOR ANALYSIS**"
      ],
      "metadata": {
        "id": "dL2oREOTsrmQ"
      }
    },
    {
      "cell_type": "markdown",
      "source": [
        "Exclude the missing features which are not relevant for the analysis"
      ],
      "metadata": {
        "id": "hPo3OE4rhQoA"
      }
    },
    {
      "cell_type": "code",
      "execution_count": 8,
      "metadata": {
        "id": "zIfwG9Id1uUL"
      },
      "outputs": [],
      "source": [
        "cols_drop_list1 = ['neighborhood_overview','bathrooms','calendar_updated','requires_license','region_parent_parent_id','region_parent_parent_name','host_about']\n",
        "cols_drop_list2 = ['listing_url','scrape_id','picture_url','host_url','host_url','host_thumbnail_url','host_picture_url','first_review','last_review','host_neighbourhood','host_total_listings_count']\n",
        "\n",
        "df.drop(cols_drop_list1+cols_drop_list2,axis=1,inplace=True) # DROPPED  18 COLS"
      ]
    },
    {
      "cell_type": "code",
      "execution_count": 9,
      "metadata": {
        "id": "gqG76OXeYQd6"
      },
      "outputs": [],
      "source": [
        "cols_drop_list3 = ['name','description','amenities']\n",
        "df.drop(cols_drop_list3,axis=1,inplace=True)"
      ]
    },
    {
      "cell_type": "markdown",
      "metadata": {
        "id": "LgH_NVpTYKod"
      },
      "source": [
        "### **PROCESSING PRICE**"
      ]
    },
    {
      "cell_type": "markdown",
      "source": [
        "Converting price data to numeric data to avoid strings and special characters"
      ],
      "metadata": {
        "id": "AigOcwPEh-6p"
      }
    },
    {
      "cell_type": "code",
      "execution_count": 10,
      "metadata": {
        "colab": {
          "base_uri": "https://localhost:8080/"
        },
        "id": "SacqDPr6bdtP",
        "outputId": "13b43977-c3fe-4f69-c534-410dacfee865"
      },
      "outputs": [
        {
          "output_type": "stream",
          "name": "stderr",
          "text": [
            "/usr/local/lib/python3.7/dist-packages/ipykernel_launcher.py:1: FutureWarning: The default value of regex will change from True to False in a future version. In addition, single character regular expressions will *not* be treated as literal strings when regex=True.\n",
            "  \"\"\"Entry point for launching an IPython kernel.\n"
          ]
        }
      ],
      "source": [
        "df['price'] = pd.to_numeric(df['price'].str.replace('$','').str.replace(',','').str.split(\".\", n = 1, expand = True)[0])\n"
      ]
    },
    {
      "cell_type": "markdown",
      "metadata": {
        "id": "JxhdRzobbj8Q"
      },
      "source": [
        "##  **HOST ACTIVITY TYPE**"
      ]
    },
    {
      "cell_type": "markdown",
      "source": [
        "Converting host acceptance and response rate to avoid strings and special characters"
      ],
      "metadata": {
        "id": "iB0Y9IxdmXDV"
      }
    },
    {
      "cell_type": "code",
      "execution_count": 11,
      "metadata": {
        "id": "AJjlTo9MbqNu"
      },
      "outputs": [],
      "source": [
        "df['host_acceptance_rate'] = pd.to_numeric(df['host_acceptance_rate'].str.replace('%',''),errors='coerce')\n",
        "\n",
        "df['host_response_rate'] = pd.to_numeric(df['host_response_rate'].str.replace('%',''),errors='coerce')\n",
        "\n"
      ]
    },
    {
      "cell_type": "markdown",
      "metadata": {
        "id": "2FDzjyvsrTOW"
      },
      "source": [
        "## **MIN/MAX NIGHTS**"
      ]
    },
    {
      "cell_type": "markdown",
      "source": [
        "Correlation Analysis to remove irrelevant features in minimum & maximum nights"
      ],
      "metadata": {
        "id": "n-Xj5VBGnUG6"
      }
    },
    {
      "cell_type": "code",
      "execution_count": 12,
      "metadata": {
        "colab": {
          "base_uri": "https://localhost:8080/",
          "height": 418
        },
        "id": "OiX7wk-egeF6",
        "outputId": "26ff165a-1594-48f8-bfa0-94ffcec4449e"
      },
      "outputs": [
        {
          "output_type": "execute_result",
          "data": {
            "text/plain": [
              "<matplotlib.axes._subplots.AxesSubplot at 0x7f990e99d550>"
            ]
          },
          "metadata": {},
          "execution_count": 12
        },
        {
          "output_type": "display_data",
          "data": {
            "text/plain": [
              "<Figure size 432x288 with 2 Axes>"
            ],
            "image/png": "[encoded data removed]"
          },
          "metadata": {
            "needs_background": "light"
          }
        }
      ],
      "source": [
        "df3 = df[['minimum_nights','maximum_nights','minimum_minimum_nights','maximum_minimum_nights','minimum_maximum_nights','maximum_maximum_nights','minimum_nights_avg_ntm','maximum_nights_avg_ntm']]\n",
        "\n",
        "sns.heatmap(round(df3.corr(),2),annot=True,cmap='RdYlGn',linewidths=0.30)"
      ]
    },
    {
      "cell_type": "code",
      "execution_count": 13,
      "metadata": {
        "id": "hwAsWqierXOG"
      },
      "outputs": [],
      "source": [
        "cols_drop_list5 = ['minimum_minimum_nights','maximum_minimum_nights','minimum_maximum_nights','maximum_maximum_nights','minimum_nights_avg_ntm','maximum_nights_avg_ntm'] # Dropped these dude to high correlation\n",
        "\n",
        "df.drop(cols_drop_list5,axis=1,inplace=True)"
      ]
    },
    {
      "cell_type": "markdown",
      "metadata": {
        "id": "d0YIwULQtpLU"
      },
      "source": [
        "### **HAS AVAILABILITY (deleted)**"
      ]
    },
    {
      "cell_type": "code",
      "execution_count": 14,
      "metadata": {
        "id": "IxOPr599rdzN"
      },
      "outputs": [],
      "source": [
        "df.drop('has_availability',axis=1,inplace=True) # No values"
      ]
    },
    {
      "cell_type": "markdown",
      "metadata": {
        "id": "J6wle3SCttIt"
      },
      "source": [
        "### **AVAILABILITY**"
      ]
    },
    {
      "cell_type": "markdown",
      "source": [
        "Correlation Analysis to remove irrelevant features in availability 30/60/90/365"
      ],
      "metadata": {
        "id": "Bn6K0ksuntd2"
      }
    },
    {
      "cell_type": "code",
      "execution_count": 15,
      "metadata": {
        "colab": {
          "base_uri": "https://localhost:8080/",
          "height": 355
        },
        "id": "bVS5KGrBtf3c",
        "outputId": "37e443fe-b8b8-4f9c-f08b-0d59871ed084"
      },
      "outputs": [
        {
          "output_type": "execute_result",
          "data": {
            "text/plain": [
              "<matplotlib.axes._subplots.AxesSubplot at 0x7f990a53d2d0>"
            ]
          },
          "metadata": {},
          "execution_count": 15
        },
        {
          "output_type": "display_data",
          "data": {
            "text/plain": [
              "<Figure size 432x288 with 2 Axes>"
            ],
            "image/png": "[encoded data removed]"
          },
          "metadata": {
            "needs_background": "light"
          }
        }
      ],
      "source": [
        "df4 = df[['availability_30','availability_60','availability_90','availability_365']]\n",
        "\n",
        "sns.heatmap(round(df4.corr(),2),annot=True,cmap='RdYlGn',linewidths=0.30)"
      ]
    },
    {
      "cell_type": "code",
      "execution_count": 16,
      "metadata": {
        "id": "F5uc5C73uxWq"
      },
      "outputs": [],
      "source": [
        "df.drop(['availability_30','availability_60','availability_90','availability_365'],axis=1, inplace=True) # High correlations"
      ]
    },
    {
      "cell_type": "code",
      "execution_count": 17,
      "metadata": {
        "id": "U3o1ANj3wkVK"
      },
      "outputs": [],
      "source": [
        "df.drop(['calendar_last_scraped','number_of_reviews', 'number_of_reviews_l30d','review_scores_accuracy',\n",
        "       'review_scores_cleanliness', 'review_scores_checkin',\n",
        "       'review_scores_communication', 'review_scores_location',\n",
        "       'review_scores_value'],inplace=True,axis=1) # Reducing complexity by dropping as these variables are not required for analysis"
      ]
    },
    {
      "cell_type": "code",
      "execution_count": 18,
      "metadata": {
        "id": "SUsMz83W1had"
      },
      "outputs": [],
      "source": [
        "df.drop(['instant_bookable','region_id','region_parent_id'],axis=1,inplace=True) # IDs are not required and dropping these variables as these are not required for analysis."
      ]
    },
    {
      "cell_type": "markdown",
      "metadata": {
        "id": "AbG5dQ4-JBvW"
      },
      "source": [
        "## **METRICS COMPUTATION**"
      ]
    },
    {
      "cell_type": "code",
      "execution_count": 19,
      "metadata": {
        "id": "3qJoGgiIh_fc"
      },
      "outputs": [],
      "source": [
        "# STR vs LTR calculation\n",
        "metric_2_str_ltr = np.where(df['minimum_nights'] < 30,'STR','LTR')\n",
        "df['STR_LTR'] = metric_2_str_ltr"
      ]
    },
    {
      "cell_type": "code",
      "execution_count": 20,
      "metadata": {
        "id": "MwcvR4sxu_Jm"
      },
      "outputs": [],
      "source": [
        "# Multi vs Single listing calculation\n",
        "listing_type = np.where(df['calculated_host_listings_count'] > 1 , 'Multi','Single')\n",
        "df['listing_type'] = listing_type\n",
        "\n",
        "\n"
      ]
    },
    {
      "cell_type": "code",
      "execution_count": 21,
      "metadata": {
        "id": "_Z8dyLRuxHZo"
      },
      "outputs": [],
      "source": [
        "# Revenue feature computation\n",
        "\n",
        "REVIEW_RATE = 0.5\n",
        "MAXIMUM_OCCUPANCY = 255\n",
        "AVERAGE_NIGHTS_STAY = 3\n",
        "estimated_bookings_ltm = round(df.number_of_reviews_ltm /REVIEW_RATE)\n",
        "\n",
        "estimated_nights_ltm = np.where((estimated_bookings_ltm*np.where(df.minimum_nights > AVERAGE_NIGHTS_STAY,df.minimum_nights,AVERAGE_NIGHTS_STAY)) > MAXIMUM_OCCUPANCY, MAXIMUM_OCCUPANCY,(estimated_bookings_ltm*np.where(df.minimum_nights > AVERAGE_NIGHTS_STAY,df.minimum_nights,AVERAGE_NIGHTS_STAY)))\n",
        "\n",
        "\n",
        "estimated_revenue_ltm = round(estimated_nights_ltm * df.price)\n",
        "\n"
      ]
    },
    {
      "cell_type": "code",
      "execution_count": 22,
      "metadata": {
        "id": "cvgFeTQp6xki"
      },
      "outputs": [],
      "source": [
        "df['Revenue'] = estimated_revenue_ltm"
      ]
    },
    {
      "cell_type": "code",
      "execution_count": 23,
      "metadata": {
        "id": "JjIMKFKZn2__"
      },
      "outputs": [],
      "source": [
        "# Occupancy field computation\n",
        "\n",
        "METRIC_5_occupancy = np.where(estimated_nights_ltm < 30, 'Occasionally rented', \n",
        "         (np.where(((estimated_nights_ltm > 30) & (estimated_nights_ltm <= 90)), 'Semi regularly rented', 'rented full time')))\n",
        "\n",
        "df['Occupancy']  =  METRIC_5_occupancy"
      ]
    },
    {
      "cell_type": "code",
      "execution_count": 24,
      "metadata": {
        "id": "v3GthCBinN1m"
      },
      "outputs": [],
      "source": [
        "df['estimated_nights_ltm'] = estimated_nights_ltm\n",
        "\n",
        "df['estimated_revenue_ltm'] =  estimated_revenue_ltm"
      ]
    },
    {
      "cell_type": "markdown",
      "source": [
        "## **LICENSE VALUE IMPUTATION**"
      ],
      "metadata": {
        "id": "P5SdmayzrrQG"
      }
    },
    {
      "cell_type": "code",
      "execution_count": 25,
      "metadata": {
        "id": "M7KW-jue5i8N"
      },
      "outputs": [],
      "source": [
        "# Imputing license missing values\n",
        "df['license'].fillna('0',inplace=True) # Impute missing license data with with zero string"
      ]
    },
    {
      "cell_type": "markdown",
      "source": [
        "## **CITY VALUE DERIVATION**"
      ],
      "metadata": {
        "id": "Bho4mJNVrnnz"
      }
    },
    {
      "cell_type": "code",
      "execution_count": 26,
      "metadata": {
        "id": "O1DJXJfoE59Y"
      },
      "outputs": [],
      "source": [
        "# Derving city data from neighbourhood data\n",
        "df['city'] = df['neighbourhood'].str.split(\",\", n = 1, expand = True)[0]"
      ]
    },
    {
      "cell_type": "code",
      "source": [
        "# Fill null values in cites to Unknown cities\n",
        "df['city'].fillna('Unknown',inplace=True)"
      ],
      "metadata": {
        "id": "LsuXIghdRIIe"
      },
      "execution_count": 27,
      "outputs": []
    },
    {
      "cell_type": "markdown",
      "source": [
        "## **FINAL EXCEL DUMP**"
      ],
      "metadata": {
        "id": "XxlqnYtXruYX"
      }
    },
    {
      "cell_type": "code",
      "source": [
        "df['country'] = np.repeat(country,df.shape[0])"
      ],
      "metadata": {
        "id": "uDzsA-PcSHwi"
      },
      "execution_count": 28,
      "outputs": []
    },
    {
      "cell_type": "code",
      "execution_count": 29,
      "metadata": {
        "id": "xWeC8R3qEza5"
      },
      "outputs": [],
      "source": [
        "df.to_csv(target_path+country+'.csv')"
      ]
    }
  ],
  "metadata": {
    "colab": {
      "provenance": []
    },
    "kernelspec": {
      "display_name": "Python 3",
      "name": "python3"
    },
    "language_info": {
      "name": "python"
    }
  },
  "nbformat": 4,
  "nbformat_minor": 0
}